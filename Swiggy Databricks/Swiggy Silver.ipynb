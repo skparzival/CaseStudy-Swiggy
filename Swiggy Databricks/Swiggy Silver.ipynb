{
 "cells": [
  {
   "cell_type": "code",
   "execution_count": 0,
   "metadata": {
    "application/vnd.databricks.v1+cell": {
     "cellMetadata": {
      "byteLimit": 2048000,
      "rowLimit": 10000
     },
     "inputWidgets": {},
     "nuid": "a9a61d39-f420-4b3c-826a-c116c31878f1",
     "showTitle": false,
     "tableResultSettingsMap": {},
     "title": ""
    }
   },
   "outputs": [
    {
     "output_type": "execute_result",
     "data": {
      "text/html": [
       "\n",
       "        <div>\n",
       "            <p><b>SparkContext</b></p>\n",
       "\n",
       "            <p><a href=\"/?o=280351569964023#setting/sparkui/0102-081944-55oqcaml/driver-1675691776055701513\">Spark UI</a></p>\n",
       "\n",
       "            <dl>\n",
       "              <dt>Version</dt>\n",
       "                <dd><code>v3.5.0</code></dd>\n",
       "              <dt>Master</dt>\n",
       "                <dd><code>local[*, 4]</code></dd>\n",
       "              <dt>AppName</dt>\n",
       "                <dd><code>Databricks Shell</code></dd>\n",
       "            </dl>\n",
       "        </div>\n",
       "        "
      ],
      "text/plain": [
       "<SparkContext master=local[*, 4] appName=Databricks Shell>"
      ]
     },
     "execution_count": 1,
     "metadata": {},
     "output_type": "execute_result"
    }
   ],
   "source": [
    "sc"
   ]
  },
  {
   "cell_type": "markdown",
   "metadata": {
    "application/vnd.databricks.v1+cell": {
     "cellMetadata": {
      "byteLimit": 2048000,
      "rowLimit": 10000
     },
     "inputWidgets": {},
     "nuid": "50025c1f-8c31-4cce-89fe-6cadfb445af2",
     "showTitle": false,
     "tableResultSettingsMap": {},
     "title": ""
    }
   },
   "source": [
    "## **Connecting to Data Lake and accessing the file**"
   ]
  },
  {
   "cell_type": "code",
   "execution_count": 0,
   "metadata": {
    "application/vnd.databricks.v1+cell": {
     "cellMetadata": {
      "byteLimit": 2048000,
      "rowLimit": 10000
     },
     "inputWidgets": {},
     "nuid": "b2dc57c3-1899-42bb-9750-8da462dfa97f",
     "showTitle": false,
     "tableResultSettingsMap": {},
     "title": ""
    }
   },
   "outputs": [
    {
     "output_type": "stream",
     "name": "stdout",
     "output_type": "stream",
     "text": [
      "Requirement already satisfied: azure-storage-file-datalake in /databricks/python3/lib/python3.11/site-packages (12.14.0)\nRequirement already satisfied: azure-core<2.0.0,>=1.28.0 in /databricks/python3/lib/python3.11/site-packages (from azure-storage-file-datalake) (1.30.2)\nRequirement already satisfied: azure-storage-blob<13.0.0,>=12.19.0 in /databricks/python3/lib/python3.11/site-packages (from azure-storage-file-datalake) (12.19.1)\nRequirement already satisfied: typing-extensions>=4.3.0 in /databricks/python3/lib/python3.11/site-packages (from azure-storage-file-datalake) (4.10.0)\nRequirement already satisfied: isodate>=0.6.1 in /databricks/python3/lib/python3.11/site-packages (from azure-storage-file-datalake) (0.6.1)\nRequirement already satisfied: requests>=2.21.0 in /databricks/python3/lib/python3.11/site-packages (from azure-core<2.0.0,>=1.28.0->azure-storage-file-datalake) (2.31.0)\nRequirement already satisfied: six>=1.11.0 in /usr/lib/python3/dist-packages (from azure-core<2.0.0,>=1.28.0->azure-storage-file-datalake) (1.16.0)\nRequirement already satisfied: cryptography>=2.1.4 in /databricks/python3/lib/python3.11/site-packages (from azure-storage-blob<13.0.0,>=12.19.0->azure-storage-file-datalake) (41.0.3)\nRequirement already satisfied: cffi>=1.12 in /databricks/python3/lib/python3.11/site-packages (from cryptography>=2.1.4->azure-storage-blob<13.0.0,>=12.19.0->azure-storage-file-datalake) (1.15.1)\nRequirement already satisfied: charset-normalizer<4,>=2 in /databricks/python3/lib/python3.11/site-packages (from requests>=2.21.0->azure-core<2.0.0,>=1.28.0->azure-storage-file-datalake) (2.0.4)\nRequirement already satisfied: idna<4,>=2.5 in /databricks/python3/lib/python3.11/site-packages (from requests>=2.21.0->azure-core<2.0.0,>=1.28.0->azure-storage-file-datalake) (3.4)\nRequirement already satisfied: urllib3<3,>=1.21.1 in /databricks/python3/lib/python3.11/site-packages (from requests>=2.21.0->azure-core<2.0.0,>=1.28.0->azure-storage-file-datalake) (1.26.16)\nRequirement already satisfied: certifi>=2017.4.17 in /databricks/python3/lib/python3.11/site-packages (from requests>=2.21.0->azure-core<2.0.0,>=1.28.0->azure-storage-file-datalake) (2023.7.22)\nRequirement already satisfied: pycparser in /databricks/python3/lib/python3.11/site-packages (from cffi>=1.12->cryptography>=2.1.4->azure-storage-blob<13.0.0,>=12.19.0->azure-storage-file-datalake) (2.21)\n\u001B[43mNote: you may need to restart the kernel using %restart_python or dbutils.library.restartPython() to use updated packages.\u001B[0m\n"
     ]
    }
   ],
   "source": [
    "pip install azure-storage-file-datalake"
   ]
  },
  {
   "cell_type": "code",
   "execution_count": 0,
   "metadata": {
    "application/vnd.databricks.v1+cell": {
     "cellMetadata": {
      "byteLimit": 2048000,
      "rowLimit": 10000
     },
     "inputWidgets": {},
     "nuid": "a48fd12a-6ba5-4d02-9afc-0f87ccb4e049",
     "showTitle": false,
     "tableResultSettingsMap": {},
     "title": ""
    }
   },
   "outputs": [
    {
     "output_type": "stream",
     "name": "stdout",
     "output_type": "stream",
     "text": [
      "JSON data successfully retrieved and parsed\nfetch completed\n"
     ]
    }
   ],
   "source": [
    "import json\n",
    "from azure.storage.filedatalake import DataLakeServiceClient, FileSystemClient, DataLakeFileClient\n",
    " \n",
    "CONNECTION_STRING = dbutils.secrets.get(scope=\"license_key\", key=\"connection-string\")\n",
    " \n",
    "data_lake_service_client = DataLakeServiceClient.from_connection_string(CONNECTION_STRING)\n",
    " \n",
    "file_system_name = \"swiggy-data\"\n",
    " \n",
    " \n",
    "def download_and_parse_json(file_system_name, file_path):\n",
    "    file_client = data_lake_service_client.get_file_system_client(file_system_name).get_file_client(file_path)\n",
    "    try:\n",
    "        file_data = file_client.download_file().readall()\n",
    "       \n",
    "        json_data = json.loads(file_data.decode('utf-8'))\n",
    "       \n",
    "        print(\"JSON data successfully retrieved and parsed\")\n",
    "        return json_data\n",
    "    except Exception as e:\n",
    "        print(f\"Failed to download and parse JSON: {e}\")\n",
    "        return None\n",
    " \n",
    "if __name__ == \"__main__\":\n",
    " \n",
    "    data = download_and_parse_json(\"swiggy-data\", \"swiggy-raw/swiggy.json\")\n",
    "    if data:\n",
    "        print(\"fetch completed\")\n",
    "   "
   ]
  },
  {
   "cell_type": "markdown",
   "metadata": {
    "application/vnd.databricks.v1+cell": {
     "cellMetadata": {
      "byteLimit": 2048000,
      "rowLimit": 10000
     },
     "inputWidgets": {},
     "nuid": "e3240385-006c-45af-b2e4-2402122ee6d0",
     "showTitle": false,
     "tableResultSettingsMap": {},
     "title": ""
    }
   },
   "source": [
    "## **Creating Restaurant and Menu DF**"
   ]
  },
  {
   "cell_type": "code",
   "execution_count": 0,
   "metadata": {
    "application/vnd.databricks.v1+cell": {
     "cellMetadata": {
      "byteLimit": 2048000,
      "rowLimit": 10000
     },
     "inputWidgets": {},
     "nuid": "634ee404-9e0c-4803-94de-9f4862a48b4b",
     "showTitle": true,
     "tableResultSettingsMap": {},
     "title": "Creating Restaurant and Menu DF"
    }
   },
   "outputs": [],
   "source": [
    "records_restaurant = []\n",
    "records_menu = []\n",
    " \n",
    "for city_name, city_data in data.items():\n",
    "    if isinstance(city_data, dict) and 'restaurants' in city_data:\n",
    "        full_city_name = city_name\n",
    "       \n",
    "        for restaurant_id, restaurant_data in city_data.get('restaurants', {}).items():\n",
    "            records_restaurant.append({\n",
    "                'Restaurant_ID': restaurant_id,\n",
    "                'Restaurant_Name': restaurant_data.get('name'),\n",
    "                'City': full_city_name,\n",
    "                'Rating': restaurant_data.get('rating'),\n",
    "                'Rating_Count': restaurant_data.get('rating_count'),\n",
    "                'Cost': restaurant_data.get('cost'),\n",
    "                'Cuisine': restaurant_data.get('cuisine'),\n",
    "                'Lic_No': restaurant_data.get('lic_no'),\n",
    "                'Link': restaurant_data.get('link'),\n",
    "                'Address': restaurant_data.get('address'),\n",
    "            })\n",
    " \n",
    "            for category, items in restaurant_data.get('menu', {}).items():\n",
    "                for item_name, item_data in items.items():\n",
    "                    records_menu.append({\n",
    "                        'Restaurant_ID': restaurant_id,\n",
    "                        'Category': category,\n",
    "                        'Item_Name': item_name,\n",
    "                        'Price': item_data.get('price'),\n",
    "                        'Veg_or_Non_Veg': item_data.get('veg_or_non_veg'),\n",
    "                        'id': f\"{restaurant_id}_{item_name}\"\n",
    "                    })\n",
    "   \n",
    "    elif isinstance(city_data, dict):\n",
    "        for sub_area_name, sub_area_data in city_data.items():\n",
    "            full_city_name = f\"{sub_area_name},{city_name}\"\n",
    " \n",
    "            for restaurant_id, restaurant_data in sub_area_data.get('restaurants', {}).items():\n",
    "                records_restaurant.append({\n",
    "                    'Restaurant_ID': restaurant_id,\n",
    "                    'Restaurant_Name': restaurant_data.get('name'),\n",
    "                    'City': full_city_name,\n",
    "                    'Rating': restaurant_data.get('rating'),\n",
    "                    'Rating_Count': restaurant_data.get('rating_count'),\n",
    "                    'Cost': restaurant_data.get('cost'),\n",
    "                    'Cuisine': restaurant_data.get('cuisine'),\n",
    "                    'Lic_No': restaurant_data.get('lic_no'),\n",
    "                    'Link': restaurant_data.get('link'),\n",
    "                    'Address': restaurant_data.get('address'),\n",
    "                })\n",
    " \n",
    "                for category, items in restaurant_data.get('menu', {}).items():\n",
    "                    for item_name, item_data in items.items():\n",
    "                        records_menu.append({\n",
    "                            'Restaurant_ID': restaurant_id,\n",
    "                            'Category': category,\n",
    "                            'Item_Name': item_name,\n",
    "                            'Price': item_data.get('price'),\n",
    "                            'Veg_or_Non_Veg': item_data.get('veg_or_non_veg'),\n",
    "                            'id': f\"{restaurant_id}_{item_name}\"\n",
    "                        })\n",
    " \n",
    "df_restaurant = spark.createDataFrame(records_restaurant)\n",
    "df_menu = spark.createDataFrame(records_menu)\n",
    " \n",
    "# df_restaurant.show(truncate=False)\n",
    "# df_menu.show(truncate=False)"
   ]
  },
  {
   "cell_type": "code",
   "execution_count": 0,
   "metadata": {
    "application/vnd.databricks.v1+cell": {
     "cellMetadata": {
      "byteLimit": 2048000,
      "rowLimit": 10000
     },
     "inputWidgets": {},
     "nuid": "47410cab-0d5a-447a-ae82-910033a58756",
     "showTitle": true,
     "tableResultSettingsMap": {},
     "title": "DF Schemas"
    }
   },
   "outputs": [
    {
     "output_type": "stream",
     "name": "stdout",
     "output_type": "stream",
     "text": [
      "root\n |-- Address: string (nullable = true)\n |-- City: string (nullable = true)\n |-- Cost: string (nullable = true)\n |-- Cuisine: string (nullable = true)\n |-- Lic_No: string (nullable = true)\n |-- Link: string (nullable = true)\n |-- Rating: string (nullable = true)\n |-- Rating_Count: string (nullable = true)\n |-- Restaurant_ID: string (nullable = true)\n |-- Restaurant_Name: string (nullable = true)\n\nroot\n |-- Category: string (nullable = true)\n |-- Item_Name: string (nullable = true)\n |-- Price: string (nullable = true)\n |-- Restaurant_ID: string (nullable = true)\n |-- Veg_or_Non_Veg: string (nullable = true)\n |-- id: string (nullable = true)\n\n"
     ]
    }
   ],
   "source": [
    "df_restaurant.printSchema()\n",
    "df_menu.printSchema()"
   ]
  },
  {
   "cell_type": "code",
   "execution_count": 0,
   "metadata": {
    "application/vnd.databricks.v1+cell": {
     "cellMetadata": {
      "byteLimit": 2048000,
      "rowLimit": 10000
     },
     "inputWidgets": {},
     "nuid": "21887682-7448-4193-b800-6933517f3f80",
     "showTitle": true,
     "tableResultSettingsMap": {},
     "title": "DF Display"
    }
   },
   "outputs": [],
   "source": [
    "# df_restaurant.display()\n",
    "# df_menu.display()"
   ]
  },
  {
   "cell_type": "code",
   "execution_count": 0,
   "metadata": {
    "application/vnd.databricks.v1+cell": {
     "cellMetadata": {
      "byteLimit": 2048000,
      "rowLimit": 10000
     },
     "inputWidgets": {},
     "nuid": "8211967d-02d9-40af-9294-24dc5b068bca",
     "showTitle": true,
     "tableResultSettingsMap": {},
     "title": "Restaurant DF Count"
    }
   },
   "outputs": [],
   "source": [
    "# df_restaurant.count()"
   ]
  },
  {
   "cell_type": "code",
   "execution_count": 0,
   "metadata": {
    "application/vnd.databricks.v1+cell": {
     "cellMetadata": {
      "byteLimit": 2048000,
      "rowLimit": 10000
     },
     "inputWidgets": {},
     "nuid": "0e367254-0fef-432b-83e3-cb9154b5a1a7",
     "showTitle": true,
     "tableResultSettingsMap": {},
     "title": "Menu DF Count"
    }
   },
   "outputs": [],
   "source": [
    "# df_menu.count()"
   ]
  },
  {
   "cell_type": "markdown",
   "metadata": {
    "application/vnd.databricks.v1+cell": {
     "cellMetadata": {
      "byteLimit": 2048000,
      "rowLimit": 10000
     },
     "inputWidgets": {},
     "nuid": "b2353eca-0566-45c3-8975-08e9f8c63870",
     "showTitle": false,
     "tableResultSettingsMap": {},
     "title": ""
    }
   },
   "source": [
    "## **Handling Duplicates**"
   ]
  },
  {
   "cell_type": "code",
   "execution_count": 0,
   "metadata": {
    "application/vnd.databricks.v1+cell": {
     "cellMetadata": {
      "byteLimit": 2048000,
      "rowLimit": 10000
     },
     "inputWidgets": {},
     "nuid": "70a2ea44-1984-42ca-a059-b21edc08cdeb",
     "showTitle": true,
     "tableResultSettingsMap": {},
     "title": "Restaurant_ID duplicates"
    }
   },
   "outputs": [],
   "source": [
    "from pyspark.sql.functions import *\n",
    "\n",
    "# df_restaurant.groupBy(col(\"Restaurant_ID\")).agg(count(\"*\").alias(\"Count\")).filter(col(\"Count\")>1).orderBy([\"Count\"], ascending = False).show()"
   ]
  },
  {
   "cell_type": "code",
   "execution_count": 0,
   "metadata": {
    "application/vnd.databricks.v1+cell": {
     "cellMetadata": {
      "byteLimit": 2048000,
      "rowLimit": 10000
     },
     "inputWidgets": {},
     "nuid": "1b1645ab-f7be-4a9f-83bc-2ba029cdcd25",
     "showTitle": true,
     "tableResultSettingsMap": {},
     "title": "Duplicate count by Restaurant_ID, Restaurant_Name, Address"
    }
   },
   "outputs": [],
   "source": [
    "duplicate_restaurants = df_restaurant.groupBy(\"Restaurant_ID\", \"Restaurant_Name\", \"Address\").count().filter(col(\"count\") > 1)\n",
    " \n",
    "df_restaurant = df_restaurant.drop_duplicates([\"Restaurant_ID\", \"Restaurant_Name\", \"Address\"])\n",
    " "
   ]
  },
  {
   "cell_type": "code",
   "execution_count": 0,
   "metadata": {
    "application/vnd.databricks.v1+cell": {
     "cellMetadata": {
      "byteLimit": 2048000,
      "rowLimit": 10000
     },
     "inputWidgets": {},
     "nuid": "c23e05ce-06fe-4a48-8684-c14f08c1682d",
     "showTitle": true,
     "tableResultSettingsMap": {},
     "title": "Duplicate Restaurants Count"
    }
   },
   "outputs": [],
   "source": [
    "# duplicate_restaurants.count()"
   ]
  },
  {
   "cell_type": "code",
   "execution_count": 0,
   "metadata": {
    "application/vnd.databricks.v1+cell": {
     "cellMetadata": {
      "byteLimit": 2048000,
      "rowLimit": 10000
     },
     "inputWidgets": {},
     "nuid": "d0151da1-dc9f-4225-a850-a48c1ad4ec30",
     "showTitle": true,
     "tableResultSettingsMap": {},
     "title": "Restaurants Count after removing duplicates"
    }
   },
   "outputs": [],
   "source": [
    "# df_restaurant.count()"
   ]
  },
  {
   "cell_type": "code",
   "execution_count": 0,
   "metadata": {
    "application/vnd.databricks.v1+cell": {
     "cellMetadata": {
      "byteLimit": 2048000,
      "rowLimit": 10000
     },
     "inputWidgets": {},
     "nuid": "86ff2163-5d9f-4de3-a60c-f62ca2ed57c4",
     "showTitle": true,
     "tableResultSettingsMap": {},
     "title": "Duplicates count after removal"
    }
   },
   "outputs": [],
   "source": [
    "# df_restaurant.groupBy(\"Restaurant_ID\", \"Restaurant_Name\", \"Address\").count().filter(col(\"count\") > 1).count()"
   ]
  },
  {
   "cell_type": "markdown",
   "metadata": {
    "application/vnd.databricks.v1+cell": {
     "cellMetadata": {
      "byteLimit": 2048000,
      "rowLimit": 10000
     },
     "inputWidgets": {},
     "nuid": "cba83c3b-82a2-442f-be29-27783c0be3a5",
     "showTitle": false,
     "tableResultSettingsMap": {},
     "title": ""
    }
   },
   "source": [
    "### **Removing Symbols and NA from cost**"
   ]
  },
  {
   "cell_type": "code",
   "execution_count": 0,
   "metadata": {
    "application/vnd.databricks.v1+cell": {
     "cellMetadata": {
      "byteLimit": 2048000,
      "rowLimit": 10000
     },
     "inputWidgets": {},
     "nuid": "ef5e547b-187c-49ee-a54d-5cae3898f046",
     "showTitle": true,
     "tableResultSettingsMap": {},
     "title": "Removing Symbols and NA from cost"
    }
   },
   "outputs": [],
   "source": [
    "df_restaurant = df_restaurant.withColumn('Cost', when(col('Cost') == 'NA', None).otherwise(regexp_replace(col('Cost'), '[^0-9]','')))\n",
    "\n",
    "df_mean = df_restaurant.groupBy('City').agg(round(mean(col('Cost')),2).alias('Mean_Cost'))\n",
    "\n",
    "df_mean_restaurant = df_restaurant.join(df_mean, on = 'City', how = 'left')\n",
    "\n",
    "df_restaurant = df_mean_restaurant.withColumn(\n",
    "    'Cost',\n",
    "    round(coalesce(col('Cost'), col('Mean_Cost')), 2)\n",
    ").drop('Mean_Cost')"
   ]
  },
  {
   "cell_type": "markdown",
   "metadata": {
    "application/vnd.databricks.v1+cell": {
     "cellMetadata": {
      "byteLimit": 2048000,
      "rowLimit": 10000
     },
     "inputWidgets": {},
     "nuid": "61bf5201-ab2c-4fd0-84db-be1f26f2beee",
     "showTitle": false,
     "tableResultSettingsMap": {},
     "title": ""
    }
   },
   "source": [
    "## **Handling Null Values**"
   ]
  },
  {
   "cell_type": "code",
   "execution_count": 0,
   "metadata": {
    "application/vnd.databricks.v1+cell": {
     "cellMetadata": {
      "byteLimit": 2048000,
      "rowLimit": 10000
     },
     "inputWidgets": {},
     "nuid": "ecdb8c47-d733-4f7c-a2dd-99f326bef56e",
     "showTitle": true,
     "tableResultSettingsMap": {},
     "title": "Restaurant DF Null Values Count"
    }
   },
   "outputs": [],
   "source": [
    "# df_restaurant.select([count(when(isnull(column),column)).alias(column) for column in df_restaurant.columns]).show()"
   ]
  },
  {
   "cell_type": "code",
   "execution_count": 0,
   "metadata": {
    "application/vnd.databricks.v1+cell": {
     "cellMetadata": {
      "byteLimit": 2048000,
      "rowLimit": 10000
     },
     "inputWidgets": {},
     "nuid": "d5328215-8b77-43a3-a19d-add1ff24ee42",
     "showTitle": true,
     "tableResultSettingsMap": {},
     "title": "Dropping restaurants with null values"
    }
   },
   "outputs": [],
   "source": [
    "df_restaurant = df_restaurant.dropna()\n",
    "\n",
    "# df_restaurant.select([count(when(isnull(column),column)).alias(column) for column in df_restaurant.columns]).show()"
   ]
  },
  {
   "cell_type": "code",
   "execution_count": 0,
   "metadata": {
    "application/vnd.databricks.v1+cell": {
     "cellMetadata": {
      "byteLimit": 2048000,
      "rowLimit": 10000
     },
     "inputWidgets": {},
     "nuid": "65711ba7-3c3b-43fd-804d-2bf5fa5ca658",
     "showTitle": false,
     "tableResultSettingsMap": {},
     "title": ""
    }
   },
   "outputs": [],
   "source": [
    "# df_restaurant.count()"
   ]
  },
  {
   "cell_type": "markdown",
   "metadata": {
    "application/vnd.databricks.v1+cell": {
     "cellMetadata": {
      "byteLimit": 2048000,
      "rowLimit": 10000
     },
     "inputWidgets": {},
     "nuid": "7c159209-b275-4b17-a6b4-ecdfaff98446",
     "showTitle": false,
     "tableResultSettingsMap": {},
     "title": ""
    }
   },
   "source": [
    "## **Handling NA Values**"
   ]
  },
  {
   "cell_type": "code",
   "execution_count": 0,
   "metadata": {
    "application/vnd.databricks.v1+cell": {
     "cellMetadata": {
      "byteLimit": 2048000,
      "rowLimit": 10000
     },
     "inputWidgets": {},
     "nuid": "e6a42f89-22bc-448a-a845-d3c137174898",
     "showTitle": true,
     "tableResultSettingsMap": {},
     "title": "Count of NA values in each column"
    }
   },
   "outputs": [],
   "source": [
    "# df_restaurant.select([count(when(col(column) == 'NA', 1)).alias(column) for column in df_restaurant.columns]).show()"
   ]
  },
  {
   "cell_type": "code",
   "execution_count": 0,
   "metadata": {
    "application/vnd.databricks.v1+cell": {
     "cellMetadata": {
      "byteLimit": 2048000,
      "rowLimit": 10000
     },
     "inputWidgets": {},
     "nuid": "1193faaf-8e26-457a-9888-a889d433466a",
     "showTitle": true,
     "tableResultSettingsMap": {},
     "title": "list of Restaurant_IDs which has Restaurant_Name NA"
    }
   },
   "outputs": [],
   "source": [
    "ids_df = df_restaurant.filter(col(\"Restaurant_Name\") == 'NA').select(col(\"Restaurant_ID\")).collect()"
   ]
  },
  {
   "cell_type": "code",
   "execution_count": 0,
   "metadata": {
    "application/vnd.databricks.v1+cell": {
     "cellMetadata": {
      "byteLimit": 2048000,
      "rowLimit": 10000
     },
     "inputWidgets": {},
     "nuid": "3abdc2d5-64d4-476d-9a43-990da33141ff",
     "showTitle": true,
     "tableResultSettingsMap": {},
     "title": "Dropping Restaurants with NA as Restaurant_Name"
    }
   },
   "outputs": [],
   "source": [
    "NA_ids = [row.Restaurant_ID for row in ids_df]\n",
    "\n",
    "df_restaurant = df_restaurant.filter(~col(\"Restaurant_ID\").isin(NA_ids))"
   ]
  },
  {
   "cell_type": "code",
   "execution_count": 0,
   "metadata": {
    "application/vnd.databricks.v1+cell": {
     "cellMetadata": {
      "byteLimit": 2048000,
      "rowLimit": 10000
     },
     "inputWidgets": {},
     "nuid": "7e5c4e9a-38ce-496f-b396-c14258aeed5c",
     "showTitle": true,
     "tableResultSettingsMap": {},
     "title": "Count of NA Values in each column"
    }
   },
   "outputs": [],
   "source": [
    "# df_restaurant.select([count(when(col(column) == 'NA', 1)).alias(column) for column in df_restaurant.columns]).show()"
   ]
  },
  {
   "cell_type": "markdown",
   "metadata": {
    "application/vnd.databricks.v1+cell": {
     "cellMetadata": {
      "byteLimit": 2048000,
      "rowLimit": 10000
     },
     "inputWidgets": {},
     "nuid": "e49011e7-3c25-4d8f-ab2c-5ba7a4426ffd",
     "showTitle": false,
     "tableResultSettingsMap": {},
     "title": ""
    }
   },
   "source": [
    "### **Handling Rating_count & Rating**"
   ]
  },
  {
   "cell_type": "code",
   "execution_count": 0,
   "metadata": {
    "application/vnd.databricks.v1+cell": {
     "cellMetadata": {
      "byteLimit": 2048000,
      "rowLimit": 10000
     },
     "inputWidgets": {},
     "nuid": "bfea3266-5d58-48ce-b7c9-7dc78a1230e7",
     "showTitle": false,
     "tableResultSettingsMap": {},
     "title": ""
    }
   },
   "outputs": [],
   "source": [
    "# df_restaurant.select(col(\"Rating_Count\")).distinct().display()"
   ]
  },
  {
   "cell_type": "code",
   "execution_count": 0,
   "metadata": {
    "application/vnd.databricks.v1+cell": {
     "cellMetadata": {
      "byteLimit": 2048000,
      "rowLimit": 10000
     },
     "inputWidgets": {},
     "nuid": "8cf1365a-4446-4050-a0db-5bfbfb9a71a4",
     "showTitle": true,
     "tableResultSettingsMap": {},
     "title": "Handling Rating_Count"
    }
   },
   "outputs": [],
   "source": [
    "df_restaurant = df_restaurant.withColumn(\n",
    "    'Rating_count',\n",
    "    when(\n",
    "        col('Rating_count').rlike('^\\\\d+\\\\+ ratings$'),\n",
    "        regexp_replace(col('Rating_count'), '\\\\+ ratings', '').cast('int')\n",
    "    )\n",
    "    .when(\n",
    "        col('Rating_count').rlike('^\\\\d+K\\\\+ ratings$'),\n",
    "        (regexp_replace(col('Rating_count'), 'K\\\\+ ratings', '') * 1000).cast('int')\n",
    "    )\n",
    "    .when(\n",
    "        col('Rating_count') == 'NA',\n",
    "        0\n",
    "    )\n",
    "    .when(\n",
    "        col('Rating_count') == 'Too Few Ratings',\n",
    "        0\n",
    "    )\n",
    "    .otherwise(None)\n",
    ")"
   ]
  },
  {
   "cell_type": "code",
   "execution_count": 0,
   "metadata": {
    "application/vnd.databricks.v1+cell": {
     "cellMetadata": {
      "byteLimit": 2048000,
      "rowLimit": 10000
     },
     "inputWidgets": {},
     "nuid": "b98eb930-beb7-48f0-b83e-782753ee57dc",
     "showTitle": false,
     "tableResultSettingsMap": {},
     "title": ""
    }
   },
   "outputs": [],
   "source": [
    "# df_restaurant.select(col(\"Rating_Count\")).distinct().display()"
   ]
  },
  {
   "cell_type": "code",
   "execution_count": 0,
   "metadata": {
    "application/vnd.databricks.v1+cell": {
     "cellMetadata": {
      "byteLimit": 2048000,
      "rowLimit": 10000
     },
     "inputWidgets": {},
     "nuid": "eaebca90-e703-43a6-bcc2-9b5b13516259",
     "showTitle": false,
     "tableResultSettingsMap": {},
     "title": ""
    }
   },
   "outputs": [],
   "source": [
    "# df_restaurant.select([count(when(isnull(column),column)).alias(column) for column in df_restaurant.columns]).show()"
   ]
  },
  {
   "cell_type": "code",
   "execution_count": 0,
   "metadata": {
    "application/vnd.databricks.v1+cell": {
     "cellMetadata": {
      "byteLimit": 2048000,
      "rowLimit": 10000
     },
     "inputWidgets": {},
     "nuid": "0bb0b695-03bd-4aaa-88d8-b106981642b1",
     "showTitle": true,
     "tableResultSettingsMap": {},
     "title": "Rating with '--' Value"
    }
   },
   "outputs": [],
   "source": [
    "# df_restaurant.select([count(when(col(column) == '--', 1)).alias(column) for column in df_restaurant.columns]).show()"
   ]
  },
  {
   "cell_type": "code",
   "execution_count": 0,
   "metadata": {
    "application/vnd.databricks.v1+cell": {
     "cellMetadata": {
      "byteLimit": 2048000,
      "rowLimit": 10000
     },
     "inputWidgets": {},
     "nuid": "a896cfe9-5175-4813-8bd5-3e7fa612bfc0",
     "showTitle": true,
     "tableResultSettingsMap": {},
     "title": "Handling Rating"
    }
   },
   "outputs": [],
   "source": [
    "df_restaurant = df_restaurant.withColumn('Rating', when(col(\"Rating\") == '--', 0).otherwise(col(\"Rating\")))"
   ]
  },
  {
   "cell_type": "code",
   "execution_count": 0,
   "metadata": {
    "application/vnd.databricks.v1+cell": {
     "cellMetadata": {
      "byteLimit": 2048000,
      "rowLimit": 10000
     },
     "inputWidgets": {},
     "nuid": "39c51eb9-891b-4f99-933e-a3f7f618d5b8",
     "showTitle": false,
     "tableResultSettingsMap": {},
     "title": ""
    }
   },
   "outputs": [],
   "source": [
    "# df_restaurant.select([count(when(col(column) == '--', 1)).alias(column) for column in df_restaurant.columns]).show()"
   ]
  },
  {
   "cell_type": "markdown",
   "metadata": {
    "application/vnd.databricks.v1+cell": {
     "cellMetadata": {
      "byteLimit": 2048000,
      "rowLimit": 10000
     },
     "inputWidgets": {},
     "nuid": "704105c9-ca01-4f37-baf4-521ab0010f60",
     "showTitle": false,
     "tableResultSettingsMap": {},
     "title": ""
    }
   },
   "source": [
    "### **Removing Unwanted Columns**"
   ]
  },
  {
   "cell_type": "code",
   "execution_count": 0,
   "metadata": {
    "application/vnd.databricks.v1+cell": {
     "cellMetadata": {
      "byteLimit": 2048000,
      "rowLimit": 10000
     },
     "inputWidgets": {},
     "nuid": "f714efc6-77b1-4d3d-a884-0c06c6979a79",
     "showTitle": false,
     "tableResultSettingsMap": {},
     "title": ""
    }
   },
   "outputs": [
    {
     "output_type": "stream",
     "name": "stdout",
     "output_type": "stream",
     "text": [
      "root\n |-- Address: string (nullable = true)\n |-- City: string (nullable = true)\n |-- Cost: string (nullable = true)\n |-- Cuisine: string (nullable = true)\n |-- Lic_No: string (nullable = true)\n |-- Link: string (nullable = true)\n |-- Rating: string (nullable = true)\n |-- Rating_count: integer (nullable = true)\n |-- Restaurant_ID: string (nullable = true)\n |-- Restaurant_Name: string (nullable = true)\n\n"
     ]
    }
   ],
   "source": [
    "df_restaurant.printSchema()"
   ]
  },
  {
   "cell_type": "code",
   "execution_count": 0,
   "metadata": {
    "application/vnd.databricks.v1+cell": {
     "cellMetadata": {
      "byteLimit": 2048000,
      "rowLimit": 10000
     },
     "inputWidgets": {},
     "nuid": "544a6b6b-d6be-4837-bc04-9acf40202115",
     "showTitle": false,
     "tableResultSettingsMap": {},
     "title": ""
    }
   },
   "outputs": [],
   "source": [
    "df_restaurant = df_restaurant.drop(\"Link\")"
   ]
  },
  {
   "cell_type": "markdown",
   "metadata": {
    "application/vnd.databricks.v1+cell": {
     "cellMetadata": {
      "byteLimit": 2048000,
      "rowLimit": 10000
     },
     "inputWidgets": {},
     "nuid": "eb6fec8b-ccc3-4304-bbb2-2a1fe16324dd",
     "showTitle": false,
     "tableResultSettingsMap": {},
     "title": ""
    }
   },
   "source": [
    "### **Changing the Schema of df_restaurant**"
   ]
  },
  {
   "cell_type": "code",
   "execution_count": 0,
   "metadata": {
    "application/vnd.databricks.v1+cell": {
     "cellMetadata": {
      "byteLimit": 2048000,
      "rowLimit": 10000
     },
     "inputWidgets": {},
     "nuid": "405f9604-fa51-4bfa-8146-5399c1147493",
     "showTitle": false,
     "tableResultSettingsMap": {},
     "title": ""
    }
   },
   "outputs": [
    {
     "output_type": "stream",
     "name": "stdout",
     "output_type": "stream",
     "text": [
      "root\n |-- Address: string (nullable = true)\n |-- City: string (nullable = true)\n |-- Cost: string (nullable = true)\n |-- Cuisine: string (nullable = true)\n |-- Lic_No: string (nullable = true)\n |-- Rating: string (nullable = true)\n |-- Rating_count: integer (nullable = true)\n |-- Restaurant_ID: string (nullable = true)\n |-- Restaurant_Name: string (nullable = true)\n\n"
     ]
    }
   ],
   "source": [
    "df_restaurant.printSchema()"
   ]
  },
  {
   "cell_type": "code",
   "execution_count": 0,
   "metadata": {
    "application/vnd.databricks.v1+cell": {
     "cellMetadata": {
      "byteLimit": 2048000,
      "rowLimit": 10000
     },
     "inputWidgets": {},
     "nuid": "04013b77-26ec-408b-8b12-f7c759f61025",
     "showTitle": true,
     "tableResultSettingsMap": {},
     "title": "Schema change"
    }
   },
   "outputs": [],
   "source": [
    "from pyspark.sql.types import StructType, StructField, StringType, IntegerType, FloatType, DoubleType\n",
    " \n",
    "new_schema = StructType([\n",
    "    StructField(\"Address\", StringType(), True),\n",
    "    StructField(\"City\", StringType(), True),\n",
    "    StructField(\"Cost\", IntegerType(), True),              \n",
    "    StructField(\"Cuisine\", StringType(), True),\n",
    "    StructField(\"Lic_No\", StringType(), True),\n",
    "    StructField(\"Rating\", DoubleType(), True),            \n",
    "    StructField(\"Rating_count\", IntegerType(), True),    \n",
    "    StructField(\"Restaurant_ID\", IntegerType(), True),    \n",
    "    StructField(\"Restaurant_Name\", StringType(), True)\n",
    "])\n",
    " \n",
    "df_restaurant = df_restaurant.select(\n",
    "    [col(field.name).cast(field.dataType) for field in new_schema.fields]\n",
    ")"
   ]
  },
  {
   "cell_type": "code",
   "execution_count": 0,
   "metadata": {
    "application/vnd.databricks.v1+cell": {
     "cellMetadata": {
      "byteLimit": 2048000,
      "rowLimit": 10000
     },
     "inputWidgets": {},
     "nuid": "d9048a30-82b4-4e1f-895e-dfd93f3e6214",
     "showTitle": true,
     "tableResultSettingsMap": {},
     "title": "Final count of df_restaurant"
    }
   },
   "outputs": [],
   "source": [
    "# df_restaurant.count()"
   ]
  },
  {
   "cell_type": "code",
   "execution_count": 0,
   "metadata": {
    "application/vnd.databricks.v1+cell": {
     "cellMetadata": {
      "byteLimit": 2048000,
      "rowLimit": 10000
     },
     "inputWidgets": {},
     "nuid": "b3d5b750-a662-42d8-998c-40ec90c592f6",
     "showTitle": true,
     "tableResultSettingsMap": {},
     "title": "Final columns in"
    }
   },
   "outputs": [
    {
     "output_type": "execute_result",
     "data": {
      "text/plain": [
       "['Address',\n",
       " 'City',\n",
       " 'Cost',\n",
       " 'Cuisine',\n",
       " 'Lic_No',\n",
       " 'Rating',\n",
       " 'Rating_count',\n",
       " 'Restaurant_ID',\n",
       " 'Restaurant_Name']"
      ]
     },
     "execution_count": 35,
     "metadata": {},
     "output_type": "execute_result"
    }
   ],
   "source": [
    "df_restaurant.columns"
   ]
  },
  {
   "cell_type": "code",
   "execution_count": 0,
   "metadata": {
    "application/vnd.databricks.v1+cell": {
     "cellMetadata": {
      "byteLimit": 2048000,
      "rowLimit": 10000
     },
     "inputWidgets": {},
     "nuid": "e1809213-9c04-44a2-af4e-303cc89b727f",
     "showTitle": false,
     "tableResultSettingsMap": {},
     "title": ""
    }
   },
   "outputs": [
    {
     "output_type": "stream",
     "name": "stdout",
     "output_type": "stream",
     "text": [
      "Collecting pycryptodome\n  Obtaining dependency information for pycryptodome from https://files.pythonhosted.org/packages/ea/66/6f2b7ddb457b19f73b82053ecc83ba768680609d56dd457dbc7e902c41aa/pycryptodome-3.21.0-cp36-abi3-manylinux_2_17_x86_64.manylinux2014_x86_64.whl.metadata\n  Downloading pycryptodome-3.21.0-cp36-abi3-manylinux_2_17_x86_64.manylinux2014_x86_64.whl.metadata (3.4 kB)\nDownloading pycryptodome-3.21.0-cp36-abi3-manylinux_2_17_x86_64.manylinux2014_x86_64.whl (2.3 MB)\n\u001B[?25l   \u001B[90m━━━━━━━━━━━━━━━━━━━━━━━━━━━━━━━━━━━━━━━━\u001B[0m \u001B[32m0.0/2.3 MB\u001B[0m \u001B[31m?\u001B[0m eta \u001B[36m-:--:--\u001B[0m\n\u001B[2K   \u001B[91m━━\u001B[0m\u001B[91m╸\u001B[0m\u001B[90m━━━━━━━━━━━━━━━━━━━━━━━━━━━━━━━━━━━━━\u001B[0m \u001B[32m0.2/2.3 MB\u001B[0m \u001B[31m4.4 MB/s\u001B[0m eta \u001B[36m0:00:01\u001B[0m\n\u001B[2K   \u001B[91m━━━━━━━━━━━━━━━━━━━━━━━━━━━━━━━━━━━━━━━\u001B[0m\u001B[91m╸\u001B[0m \u001B[32m2.3/2.3 MB\u001B[0m \u001B[31m36.4 MB/s\u001B[0m eta \u001B[36m0:00:01\u001B[0m\n\u001B[2K   \u001B[91m━━━━━━━━━━━━━━━━━━━━━━━━━━━━━━━━━━━━━━━\u001B[0m\u001B[91m╸\u001B[0m \u001B[32m2.3/2.3 MB\u001B[0m \u001B[31m36.4 MB/s\u001B[0m eta \u001B[36m0:00:01\u001B[0m\n\u001B[2K   \u001B[90m━━━━━━━━━━━━━━━━━━━━━━━━━━━━━━━━━━━━━━━━\u001B[0m \u001B[32m2.3/2.3 MB\u001B[0m \u001B[31m20.8 MB/s\u001B[0m eta \u001B[36m0:00:00\u001B[0m\n\u001B[?25hInstalling collected packages: pycryptodome\nSuccessfully installed pycryptodome-3.21.0\n\u001B[43mNote: you may need to restart the kernel using %restart_python or dbutils.library.restartPython() to use updated packages.\u001B[0m\n"
     ]
    }
   ],
   "source": [
    "pip install pycryptodome"
   ]
  },
  {
   "cell_type": "code",
   "execution_count": 0,
   "metadata": {
    "application/vnd.databricks.v1+cell": {
     "cellMetadata": {
      "byteLimit": 2048000,
      "rowLimit": 10000
     },
     "inputWidgets": {},
     "nuid": "1f8c1b2f-43c1-4416-b58e-67ff32750623",
     "showTitle": false,
     "tableResultSettingsMap": {},
     "title": ""
    }
   },
   "outputs": [],
   "source": [
    "from pyspark.sql.functions import col, udf\n",
    "from pyspark.sql.types import StringType\n",
    "from Crypto.Cipher import AES\n",
    "import base64\n",
    "import os\n",
    "\n",
    "def encrypt_lic_no(lic_no, key):\n",
    "    if lic_no is None:\n",
    "        return None\n",
    "    try:\n",
    "        # Ensure the key is exactly 16 bytes (128-bit key)\n",
    "        key = key.ljust(16)[:16].encode('utf-8')\n",
    "        cipher = AES.new(key, AES.MODE_ECB)  \n",
    "        \n",
    "        # Padding to make the input length a multiple of 16\n",
    "        padded_lic_no = lic_no.ljust(16 * ((len(lic_no) + 15) // 16))\n",
    "        encrypted_bytes = cipher.encrypt(padded_lic_no.encode('utf-8'))\n",
    "        \n",
    "        # Encode the encrypted bytes to Base64\n",
    "        encrypted_base64 = base64.b64encode(encrypted_bytes).decode('utf-8')\n",
    "        return encrypted_base64\n",
    "    except Exception as e:\n",
    "        return None\n",
    "\n",
    "def decrypt_lic_no(encrypted_base64, key):\n",
    "    if encrypted_base64 is None:\n",
    "        return None\n",
    "    try:\n",
    "        # Ensure the key is exactly 16 bytes (128-bit key)\n",
    "        key = key.ljust(16)[:16].encode('utf-8')\n",
    "        \n",
    "        # Decode the Base64-encoded encrypted text\n",
    "        encrypted_bytes = base64.b64decode(encrypted_base64.encode('utf-8'))\n",
    "        \n",
    "        # Create the AES cipher object in ECB mode for decryption\n",
    "        cipher = AES.new(key, AES.MODE_ECB)\n",
    "        \n",
    "        # Decrypt the data\n",
    "        decrypted_bytes = cipher.decrypt(encrypted_bytes)\n",
    "        \n",
    "        # Remove padding (the padding was added during encryption to make the length a multiple of 16)\n",
    "        decrypted_text = decrypted_bytes.decode('utf-8').rstrip(' ')  # Remove padding\n",
    "        \n",
    "        return decrypted_text\n",
    "    except Exception as e:\n",
    "        return None\n",
    "\n",
    "# Define the encryption key\n",
    "encryption_key = dbutils.secrets.get(scope=\"license_key\", key=\"license-encryption-key\")\n",
    "\n",
    "# Create UDF for encryption\n",
    "encrypt_lic_no_udf = udf(lambda lic_no: encrypt_lic_no(lic_no, encryption_key), StringType())\n",
    "\n",
    "# Encrypt the lic_no column\n",
    "df_restaurant = df_restaurant.withColumn(\"Lic_No\", encrypt_lic_no_udf(col(\"Lic_No\")))\n",
    "\n",
    "# Create UDF for decryption\n",
    "decrypt_lic_no_udf = udf(lambda encrypted_text: decrypt_lic_no(encrypted_text, encryption_key), StringType())\n",
    "\n",
    "# Decrypt the lic_no_encrypted column\n",
    "# df1 = df.withColumn(\"Lic_No\", decrypt_lic_no_udf(col(\"Lic_No\")))\n"
   ]
  },
  {
   "cell_type": "code",
   "execution_count": 0,
   "metadata": {
    "application/vnd.databricks.v1+cell": {
     "cellMetadata": {
      "byteLimit": 2048000,
      "rowLimit": 10000
     },
     "inputWidgets": {},
     "nuid": "04006746-72db-4070-b3ab-2da6de601afe",
     "showTitle": false,
     "tableResultSettingsMap": {},
     "title": ""
    }
   },
   "outputs": [],
   "source": [
    "# df.display()"
   ]
  },
  {
   "cell_type": "code",
   "execution_count": 0,
   "metadata": {
    "application/vnd.databricks.v1+cell": {
     "cellMetadata": {
      "byteLimit": 2048000,
      "rowLimit": 10000
     },
     "inputWidgets": {},
     "nuid": "bf6a8a51-e8fa-4599-87e3-e0d5840d6873",
     "showTitle": false,
     "tableResultSettingsMap": {},
     "title": ""
    }
   },
   "outputs": [],
   "source": [
    "# df1.display()"
   ]
  },
  {
   "cell_type": "code",
   "execution_count": 0,
   "metadata": {
    "application/vnd.databricks.v1+cell": {
     "cellMetadata": {
      "byteLimit": 2048000,
      "rowLimit": 10000
     },
     "inputWidgets": {},
     "nuid": "430fefd3-33c8-43c6-b618-a331807b49ff",
     "showTitle": false,
     "tableResultSettingsMap": {},
     "title": ""
    }
   },
   "outputs": [],
   "source": [
    "# df_restaurant.display()"
   ]
  },
  {
   "cell_type": "code",
   "execution_count": 0,
   "metadata": {
    "application/vnd.databricks.v1+cell": {
     "cellMetadata": {
      "byteLimit": 2048000,
      "rowLimit": 10000
     },
     "inputWidgets": {},
     "nuid": "3c57dd29-457f-46ef-8e70-40a54700eb36",
     "showTitle": true,
     "tableResultSettingsMap": {},
     "title": "Writing df_restaurant to delta table to data lake"
    }
   },
   "outputs": [],
   "source": [
    "# datalake_key = dbutils.secrets.get(scope=\"license_key\", key=\"datalake-key\")\n",
    "\n",
    "# spark.conf.set(\"fs.azure.account.key.casestudysk.dfs.core.windows.net\", datalake_key)\n",
    "\n",
    "# delta_table_path_restaurant = \"abfss://swiggy-silver@casestudysk.dfs.core.windows.net/swiggy-restaurant/\"\n",
    "\n",
    "# df_restaurant.write.format(\"delta\").mode(\"overwrite\").save(delta_table_path_restaurant)"
   ]
  },
  {
   "cell_type": "markdown",
   "metadata": {
    "application/vnd.databricks.v1+cell": {
     "cellMetadata": {
      "byteLimit": 2048000,
      "rowLimit": 10000
     },
     "inputWidgets": {},
     "nuid": "91fb518c-04d0-4ba7-b473-d8a92c2fb205",
     "showTitle": false,
     "tableResultSettingsMap": {},
     "title": ""
    }
   },
   "source": [
    "## **Menu**"
   ]
  },
  {
   "cell_type": "code",
   "execution_count": 0,
   "metadata": {
    "application/vnd.databricks.v1+cell": {
     "cellMetadata": {
      "byteLimit": 2048000,
      "rowLimit": 10000
     },
     "inputWidgets": {},
     "nuid": "da8ef074-934c-48ac-8295-4017191a21c1",
     "showTitle": false,
     "tableResultSettingsMap": {},
     "title": ""
    }
   },
   "outputs": [],
   "source": [
    "# df_menu.count()"
   ]
  },
  {
   "cell_type": "markdown",
   "metadata": {
    "application/vnd.databricks.v1+cell": {
     "cellMetadata": {
      "byteLimit": 2048000,
      "rowLimit": 10000
     },
     "inputWidgets": {},
     "nuid": "6727506a-9517-4d94-a59e-e3e4ca940334",
     "showTitle": false,
     "tableResultSettingsMap": {},
     "title": ""
    }
   },
   "source": [
    "### **Handling Duplicates for df_menu**"
   ]
  },
  {
   "cell_type": "code",
   "execution_count": 0,
   "metadata": {
    "application/vnd.databricks.v1+cell": {
     "cellMetadata": {
      "byteLimit": 2048000,
      "rowLimit": 10000
     },
     "inputWidgets": {},
     "nuid": "d9b7c812-d20b-4008-926e-df96fc80f7f8",
     "showTitle": true,
     "tableResultSettingsMap": {},
     "title": "Duplicate values in df_menu"
    }
   },
   "outputs": [],
   "source": [
    "# df_menu.groupBy(\"id\", \"Category\").count().filter(col(\"count\") > 1).orderBy([\"count\"], ascending = False).display()"
   ]
  },
  {
   "cell_type": "code",
   "execution_count": 0,
   "metadata": {
    "application/vnd.databricks.v1+cell": {
     "cellMetadata": {
      "byteLimit": 2048000,
      "rowLimit": 10000
     },
     "inputWidgets": {},
     "nuid": "5a502df2-0039-4f55-9520-d1ff8d047cad",
     "showTitle": false,
     "tableResultSettingsMap": {},
     "title": ""
    }
   },
   "outputs": [],
   "source": [
    "# df_menu.groupBy(\"Restaurant_ID\", \"Category\").agg(count(\"*\").alias(\"Count\")).filter(col(\"Count\")>1).orderBy([\"Count\", \"Restaurant_ID\"], ascending = False).show()"
   ]
  },
  {
   "cell_type": "code",
   "execution_count": 0,
   "metadata": {
    "application/vnd.databricks.v1+cell": {
     "cellMetadata": {
      "byteLimit": 2048000,
      "rowLimit": 10000
     },
     "inputWidgets": {},
     "nuid": "42604ab6-308e-4e0b-92e5-1e5b8c58f817",
     "showTitle": true,
     "tableResultSettingsMap": {},
     "title": "Dropping Duplicates in df_menu"
    }
   },
   "outputs": [],
   "source": [
    "df_menu = df_menu.drop_duplicates([\"id\", \"Category\"])"
   ]
  },
  {
   "cell_type": "markdown",
   "metadata": {
    "application/vnd.databricks.v1+cell": {
     "cellMetadata": {
      "byteLimit": 2048000,
      "rowLimit": 10000
     },
     "inputWidgets": {},
     "nuid": "df14cb2c-8645-4ab3-97ee-396004973f11",
     "showTitle": false,
     "tableResultSettingsMap": {},
     "title": ""
    }
   },
   "source": [
    "### **Checking for null values**"
   ]
  },
  {
   "cell_type": "code",
   "execution_count": 0,
   "metadata": {
    "application/vnd.databricks.v1+cell": {
     "cellMetadata": {
      "byteLimit": 2048000,
      "rowLimit": 10000
     },
     "inputWidgets": {},
     "nuid": "5cecf227-7eff-445d-a5d7-f56c46aa32a1",
     "showTitle": true,
     "tableResultSettingsMap": {},
     "title": "Null value count"
    }
   },
   "outputs": [],
   "source": [
    "# df_menu.select([count(when(isnull(column),column)).alias(column) for column in df_menu.columns]).show()"
   ]
  },
  {
   "cell_type": "code",
   "execution_count": 0,
   "metadata": {
    "application/vnd.databricks.v1+cell": {
     "cellMetadata": {
      "byteLimit": 2048000,
      "rowLimit": 10000
     },
     "inputWidgets": {},
     "nuid": "cbe865ff-fb82-4c66-b1e6-f277963d1db8",
     "showTitle": true,
     "tableResultSettingsMap": {},
     "title": "Dropping Null values from df_menu"
    }
   },
   "outputs": [],
   "source": [
    "df_menu = df_menu.dropna()"
   ]
  },
  {
   "cell_type": "markdown",
   "metadata": {
    "application/vnd.databricks.v1+cell": {
     "cellMetadata": {
      "byteLimit": 2048000,
      "rowLimit": 10000
     },
     "inputWidgets": {},
     "nuid": "06b52bf7-2de4-4922-93ac-11a895596b02",
     "showTitle": false,
     "tableResultSettingsMap": {},
     "title": ""
    }
   },
   "source": [
    "### **Checking for NA values**"
   ]
  },
  {
   "cell_type": "code",
   "execution_count": 0,
   "metadata": {
    "application/vnd.databricks.v1+cell": {
     "cellMetadata": {
      "byteLimit": 2048000,
      "rowLimit": 10000
     },
     "inputWidgets": {},
     "nuid": "b7c81958-087a-47c1-b67d-430f1a35cdf8",
     "showTitle": true,
     "tableResultSettingsMap": {},
     "title": "NA  Value count"
    }
   },
   "outputs": [],
   "source": [
    "# df_menu.select([count(when(col(column) == 'NA', 1)).alias(column) for column in df_menu.columns]).show()"
   ]
  },
  {
   "cell_type": "code",
   "execution_count": 0,
   "metadata": {
    "application/vnd.databricks.v1+cell": {
     "cellMetadata": {
      "byteLimit": 2048000,
      "rowLimit": 10000
     },
     "inputWidgets": {},
     "nuid": "42491f09-8182-414e-9db9-4c520fe60809",
     "showTitle": true,
     "tableResultSettingsMap": {},
     "title": "Dropping values with Item_Name NA"
    }
   },
   "outputs": [],
   "source": [
    "df_menu = df_menu.filter((col('Item_Name') != 'NA') | (col('Restaurant_ID') != 'NA'))"
   ]
  },
  {
   "cell_type": "markdown",
   "metadata": {
    "application/vnd.databricks.v1+cell": {
     "cellMetadata": {
      "byteLimit": 2048000,
      "rowLimit": 10000
     },
     "inputWidgets": {},
     "nuid": "d7a74fe8-afa4-44f3-85fc-3f65baa2aa92",
     "showTitle": false,
     "tableResultSettingsMap": {},
     "title": ""
    }
   },
   "source": [
    "### **Changing schema of df_menu**"
   ]
  },
  {
   "cell_type": "code",
   "execution_count": 0,
   "metadata": {
    "application/vnd.databricks.v1+cell": {
     "cellMetadata": {
      "byteLimit": 2048000,
      "rowLimit": 10000
     },
     "inputWidgets": {},
     "nuid": "86cfcba2-5d38-4bd3-8c65-b0c50394963e",
     "showTitle": false,
     "tableResultSettingsMap": {},
     "title": ""
    }
   },
   "outputs": [
    {
     "output_type": "stream",
     "name": "stdout",
     "output_type": "stream",
     "text": [
      "root\n |-- Category: string (nullable = true)\n |-- Item_Name: string (nullable = true)\n |-- Price: string (nullable = true)\n |-- Restaurant_ID: string (nullable = true)\n |-- Veg_or_Non_Veg: string (nullable = true)\n |-- id: string (nullable = true)\n\n"
     ]
    }
   ],
   "source": [
    "df_menu.printSchema()"
   ]
  },
  {
   "cell_type": "code",
   "execution_count": 0,
   "metadata": {
    "application/vnd.databricks.v1+cell": {
     "cellMetadata": {
      "byteLimit": 2048000,
      "rowLimit": 10000
     },
     "inputWidgets": {},
     "nuid": "e4c0fe76-256f-4916-929e-949a8c6b2ec1",
     "showTitle": false,
     "tableResultSettingsMap": {},
     "title": ""
    }
   },
   "outputs": [],
   "source": [
    "new_schema = StructType([\n",
    "    StructField(\"Category\", StringType(), True),\n",
    "    StructField(\"Item_Name\", StringType(), True),\n",
    "    StructField(\"Price\", DoubleType(), True),              \n",
    "    StructField(\"Restaurant_ID\", IntegerType(), True),\n",
    "    StructField(\"Veg_or_Non_Veg\", StringType(), True),\n",
    "    StructField(\"id\", StringType(), True)\n",
    "])\n",
    "\n",
    "df_menu = df_menu.select(\n",
    "    [col(field.name).cast(field.dataType).alias(field.name) for field in new_schema.fields]\n",
    ")"
   ]
  },
  {
   "cell_type": "code",
   "execution_count": 0,
   "metadata": {
    "application/vnd.databricks.v1+cell": {
     "cellMetadata": {
      "byteLimit": 2048000,
      "rowLimit": 10000
     },
     "inputWidgets": {},
     "nuid": "57248171-7bc1-4d3f-8203-6432896defba",
     "showTitle": true,
     "tableResultSettingsMap": {},
     "title": "Final count of df_menu"
    }
   },
   "outputs": [],
   "source": [
    "# df_menu.count()"
   ]
  },
  {
   "cell_type": "code",
   "execution_count": 0,
   "metadata": {
    "application/vnd.databricks.v1+cell": {
     "cellMetadata": {
      "byteLimit": 2048000,
      "rowLimit": 10000
     },
     "inputWidgets": {},
     "nuid": "62924c42-32f8-4b43-b498-3788f8cc1127",
     "showTitle": true,
     "tableResultSettingsMap": {},
     "title": "Final columns of df_menu"
    }
   },
   "outputs": [
    {
     "output_type": "execute_result",
     "data": {
      "text/plain": [
       "['Category', 'Item_Name', 'Price', 'Restaurant_ID', 'Veg_or_Non_Veg', 'id']"
      ]
     },
     "execution_count": 54,
     "metadata": {},
     "output_type": "execute_result"
    }
   ],
   "source": [
    "df_menu.columns"
   ]
  },
  {
   "cell_type": "code",
   "execution_count": 0,
   "metadata": {
    "application/vnd.databricks.v1+cell": {
     "cellMetadata": {
      "byteLimit": 2048000,
      "rowLimit": 10000
     },
     "inputWidgets": {},
     "nuid": "ce6f563c-7bb5-4bce-909e-d2694a7f1743",
     "showTitle": true,
     "tableResultSettingsMap": {},
     "title": "df_menu final"
    }
   },
   "outputs": [],
   "source": [
    "# df_menu.display()"
   ]
  },
  {
   "cell_type": "markdown",
   "metadata": {
    "application/vnd.databricks.v1+cell": {
     "cellMetadata": {
      "byteLimit": 2048000,
      "rowLimit": 10000
     },
     "inputWidgets": {},
     "nuid": "e2eb6ad0-6277-4563-8d4c-e1d82ae2462f",
     "showTitle": false,
     "tableResultSettingsMap": {},
     "title": ""
    }
   },
   "source": [
    "## **Creating array of menu grouped by Restaurant_ID**"
   ]
  },
  {
   "cell_type": "code",
   "execution_count": 0,
   "metadata": {
    "application/vnd.databricks.v1+cell": {
     "cellMetadata": {
      "byteLimit": 2048000,
      "rowLimit": 10000
     },
     "inputWidgets": {},
     "nuid": "6b624ffc-efcd-42cf-ae62-3e7fcd8492cd",
     "showTitle": true,
     "tableResultSettingsMap": {},
     "title": "final menu for joining"
    }
   },
   "outputs": [],
   "source": [
    "df_menu_final = df_menu.groupBy('Restaurant_ID').agg(\n",
    "    collect_list(\n",
    "        struct('Category', 'Item_Name', 'Price', 'Restaurant_ID', 'Veg_or_Non_Veg', 'id')\n",
    "    ).alias('Menu_Items')\n",
    ")"
   ]
  },
  {
   "cell_type": "code",
   "execution_count": 0,
   "metadata": {
    "application/vnd.databricks.v1+cell": {
     "cellMetadata": {
      "byteLimit": 2048000,
      "rowLimit": 10000
     },
     "inputWidgets": {},
     "nuid": "ad56ed60-1653-4f3c-a275-9eb0d4cf8ecb",
     "showTitle": false,
     "tableResultSettingsMap": {},
     "title": ""
    }
   },
   "outputs": [],
   "source": [
    "# df_menu_final.display()"
   ]
  },
  {
   "cell_type": "code",
   "execution_count": 0,
   "metadata": {
    "application/vnd.databricks.v1+cell": {
     "cellMetadata": {
      "byteLimit": 2048000,
      "rowLimit": 10000
     },
     "inputWidgets": {},
     "nuid": "366e0107-609d-47dd-817b-62b1ea8479f8",
     "showTitle": true,
     "tableResultSettingsMap": {},
     "title": "Writing df_menu_final to delta table to data lake"
    }
   },
   "outputs": [],
   "source": [
    "# datalake_key = dbutils.secrets.get(scope=\"license_key\", key=\"datalake-key\")\n",
    "\n",
    "# spark.conf.set(\"fs.azure.account.key.casestudysk.dfs.core.windows.net\", datalake_key)\n",
    "\n",
    "# delta_table_path_menu = \"abfss://swiggy-silver@casestudysk.dfs.core.windows.net/swiggy-menu/\"\n",
    "\n",
    "# df_menu_final.write.format(\"delta\").mode(\"overwrite\").save(delta_table_path_menu)"
   ]
  },
  {
   "cell_type": "markdown",
   "metadata": {
    "application/vnd.databricks.v1+cell": {
     "cellMetadata": {
      "byteLimit": 2048000,
      "rowLimit": 10000
     },
     "inputWidgets": {},
     "nuid": "92d2348e-43f9-4702-8359-51873f41492b",
     "showTitle": false,
     "tableResultSettingsMap": {},
     "title": ""
    }
   },
   "source": [
    "## **Joining df_restaurant and df_menu_final for final df**"
   ]
  },
  {
   "cell_type": "code",
   "execution_count": 0,
   "metadata": {
    "application/vnd.databricks.v1+cell": {
     "cellMetadata": {
      "byteLimit": 2048000,
      "rowLimit": 10000
     },
     "inputWidgets": {},
     "nuid": "d1338951-60b0-461c-a09e-65b502358133",
     "showTitle": true,
     "tableResultSettingsMap": {},
     "title": "Joining DFs"
    }
   },
   "outputs": [],
   "source": [
    "df_final = df_restaurant.join(df_menu_final, on=\"Restaurant_ID\", how=\"left\")"
   ]
  },
  {
   "cell_type": "markdown",
   "metadata": {
    "application/vnd.databricks.v1+cell": {
     "cellMetadata": {
      "byteLimit": 2048000,
      "rowLimit": 10000
     },
     "inputWidgets": {},
     "nuid": "cbb2740d-183e-499c-9f70-a086831cc5c0",
     "showTitle": false,
     "tableResultSettingsMap": {},
     "title": ""
    }
   },
   "source": [
    "### **Adding Timestamp Column to df_final**"
   ]
  },
  {
   "cell_type": "code",
   "execution_count": 0,
   "metadata": {
    "application/vnd.databricks.v1+cell": {
     "cellMetadata": {
      "byteLimit": 2048000,
      "rowLimit": 10000
     },
     "inputWidgets": {},
     "nuid": "2ebf018e-aa43-4a72-98bc-4f263b98e6e5",
     "showTitle": false,
     "tableResultSettingsMap": {},
     "title": ""
    }
   },
   "outputs": [],
   "source": [
    "df_final = df_final.withColumn(\"update_timestamp\", current_timestamp())"
   ]
  },
  {
   "cell_type": "code",
   "execution_count": 0,
   "metadata": {
    "application/vnd.databricks.v1+cell": {
     "cellMetadata": {
      "byteLimit": 2048000,
      "rowLimit": 10000
     },
     "inputWidgets": {},
     "nuid": "1ea23cc5-016b-4fde-87d7-c0bc701e391a",
     "showTitle": false,
     "tableResultSettingsMap": {},
     "title": ""
    }
   },
   "outputs": [],
   "source": [
    "# df_final.count()"
   ]
  },
  {
   "cell_type": "code",
   "execution_count": 0,
   "metadata": {
    "application/vnd.databricks.v1+cell": {
     "cellMetadata": {
      "byteLimit": 2048000,
      "rowLimit": 10000
     },
     "inputWidgets": {},
     "nuid": "6a3a11f1-26e0-4664-863f-3135d631d614",
     "showTitle": false,
     "tableResultSettingsMap": {},
     "title": ""
    }
   },
   "outputs": [
    {
     "output_type": "execute_result",
     "data": {
      "text/plain": [
       "['Restaurant_ID',\n",
       " 'Address',\n",
       " 'City',\n",
       " 'Cost',\n",
       " 'Cuisine',\n",
       " 'Lic_No',\n",
       " 'Rating',\n",
       " 'Rating_count',\n",
       " 'Restaurant_Name',\n",
       " 'Menu_Items',\n",
       " 'update_timestamp']"
      ]
     },
     "execution_count": 62,
     "metadata": {},
     "output_type": "execute_result"
    }
   ],
   "source": [
    "df_final.columns"
   ]
  },
  {
   "cell_type": "code",
   "execution_count": 0,
   "metadata": {
    "application/vnd.databricks.v1+cell": {
     "cellMetadata": {
      "byteLimit": 2048000,
      "rowLimit": 10000
     },
     "inputWidgets": {},
     "nuid": "a539d0fc-e6f7-4e92-93fc-73577ac88817",
     "showTitle": false,
     "tableResultSettingsMap": {},
     "title": ""
    }
   },
   "outputs": [
    {
     "output_type": "stream",
     "name": "stdout",
     "output_type": "stream",
     "text": [
      "root\n |-- Restaurant_ID: integer (nullable = true)\n |-- Address: string (nullable = true)\n |-- City: string (nullable = true)\n |-- Cost: integer (nullable = true)\n |-- Cuisine: string (nullable = true)\n |-- Lic_No: string (nullable = true)\n |-- Rating: double (nullable = true)\n |-- Rating_count: integer (nullable = true)\n |-- Restaurant_Name: string (nullable = true)\n |-- Menu_Items: array (nullable = true)\n |    |-- element: struct (containsNull = false)\n |    |    |-- Category: string (nullable = true)\n |    |    |-- Item_Name: string (nullable = true)\n |    |    |-- Price: double (nullable = true)\n |    |    |-- Restaurant_ID: integer (nullable = true)\n |    |    |-- Veg_or_Non_Veg: string (nullable = true)\n |    |    |-- id: string (nullable = true)\n |-- update_timestamp: timestamp (nullable = false)\n\n"
     ]
    }
   ],
   "source": [
    "df_final.printSchema()"
   ]
  },
  {
   "cell_type": "code",
   "execution_count": 0,
   "metadata": {
    "application/vnd.databricks.v1+cell": {
     "cellMetadata": {
      "byteLimit": 2048000,
      "rowLimit": 10000
     },
     "inputWidgets": {},
     "nuid": "8c468093-e1ca-4469-9ce0-b902adfc283c",
     "showTitle": false,
     "tableResultSettingsMap": {},
     "title": ""
    }
   },
   "outputs": [],
   "source": [
    "# df_final.display()"
   ]
  },
  {
   "cell_type": "code",
   "execution_count": 0,
   "metadata": {
    "application/vnd.databricks.v1+cell": {
     "cellMetadata": {
      "byteLimit": 2048000,
      "rowLimit": 10000
     },
     "inputWidgets": {},
     "nuid": "0b579013-8187-4c3e-a635-c42c015c23b1",
     "showTitle": true,
     "tableResultSettingsMap": {},
     "title": "Writing df_final to delta table to data lake"
    }
   },
   "outputs": [],
   "source": [
    "datalake_key = dbutils.secrets.get(scope=\"license_key\", key=\"datalake-key\")\n",
    "\n",
    "spark.conf.set(\"fs.azure.account.key.casestudysk.dfs.core.windows.net\", datalake_key)\n",
    "\n",
    "delta_table_path_final = \"abfss://swiggy-silver@casestudysk.dfs.core.windows.net/swiggy-final/\"\n",
    "\n",
    "df_final.write.format(\"delta\").mode(\"append\").save(delta_table_path_final)"
   ]
  }
 ],
 "metadata": {
  "application/vnd.databricks.v1+notebook": {
   "computePreferences": null,
   "dashboards": [],
   "environmentMetadata": null,
   "language": "python",
   "notebookMetadata": {
    "mostRecentlyExecutedCommandWithImplicitDF": {
     "commandId": 3106201247254267,
     "dataframes": [
      "_sqldf"
     ]
    },
    "pythonIndentUnit": 4
   },
   "notebookName": "Swiggy Silver",
   "widgets": {}
  },
  "language_info": {
   "name": "python"
  }
 },
 "nbformat": 4,
 "nbformat_minor": 0
}